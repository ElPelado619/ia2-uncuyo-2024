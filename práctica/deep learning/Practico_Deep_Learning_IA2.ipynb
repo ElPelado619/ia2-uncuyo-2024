{
  "cells": [
    {
      "cell_type": "code",
      "execution_count": 1,
      "metadata": {
        "id": "DoaLnJQp961C"
      },
      "outputs": [
        {
          "ename": "",
          "evalue": "",
          "output_type": "error",
          "traceback": [
            "\u001b[1;31mThe Kernel crashed while executing code in the current cell or a previous cell. \n",
            "\u001b[1;31mPlease review the code in the cell(s) to identify a possible cause of the failure. \n",
            "\u001b[1;31mClick <a href='https://aka.ms/vscodeJupyterKernelCrash'>here</a> for more info. \n",
            "\u001b[1;31mView Jupyter <a href='command:jupyter.viewOutput'>log</a> for further details."
          ]
        }
      ],
      "source": [
        "import numpy\n",
        "import tensorflow as tf\n",
        "from tensorflow import keras\n",
        "from tensorflow.keras import layers\n",
        "import matplotlib.pyplot as plt"
      ]
    },
    {
      "cell_type": "markdown",
      "metadata": {
        "id": "GBz5BAKoVwAv"
      },
      "source": [
        "# Parte 1: Introducción"
      ]
    },
    {
      "cell_type": "markdown",
      "metadata": {
        "id": "ZIyMzJmXpDdH"
      },
      "source": [
        "### Ejercicio 1\n",
        "Generar un tensor llamado **x** cuyo contenido sea el siguiente:\n",
        "\n",
        "![Imgur](https://i.imgur.com/rfaKGUG.png)"
      ]
    },
    {
      "cell_type": "code",
      "execution_count": 3,
      "metadata": {
        "colab": {
          "base_uri": "https://localhost:8080/"
        },
        "id": "A5cbS3G9nQyg",
        "outputId": "6b88ec0e-64ad-4c4b-f8af-86d535187283"
      },
      "outputs": [
        {
          "data": {
            "text/plain": [
              "<tf.Tensor: shape=(2, 3, 5), dtype=int32, numpy=\n",
              "array([[[ 0,  2,  4,  6,  8],\n",
              "        [10, 12, 14, 16, 18],\n",
              "        [20, 22, 24, 26, 28]],\n",
              "\n",
              "       [[30, 32, 34, 36, 38],\n",
              "        [40, 42, 44, 46, 48],\n",
              "        [50, 52, 54, 56, 58]]], dtype=int32)>"
            ]
          },
          "execution_count": 3,
          "metadata": {},
          "output_type": "execute_result"
        }
      ],
      "source": [
        "tensor = tf.constant([[[ 0,  2,  4,  6,  8],\n",
        "                       [10, 12, 14, 16, 18],\n",
        "                       [20, 22, 24, 26, 28]],\n",
        "\n",
        "                      [[30, 32, 34, 36, 38],\n",
        "                       [40, 42, 44, 46, 48],\n",
        "                       [50, 52, 54, 56, 58]]])\n",
        "tensor"
      ]
    },
    {
      "cell_type": "markdown",
      "metadata": {
        "id": "dm_PLDM_ov2z"
      },
      "source": [
        "### Ejercicio 2\n",
        "Realizar los cambios necesarios en los siguientes tensores para que sea posible multiplicar cada columna del tensor \"X\" por el vector \"y\"."
      ]
    },
    {
      "cell_type": "code",
      "execution_count": 9,
      "metadata": {
        "colab": {
          "base_uri": "https://localhost:8080/"
        },
        "id": "iYigasJnqJDe",
        "outputId": "d751bb2c-26bb-47f1-c866-04aeec253a3f"
      },
      "outputs": [
        {
          "name": "stdout",
          "output_type": "stream",
          "text": [
            "tf.Tensor(\n",
            "[[[[1. 1. 1.]\n",
            "   [2. 2. 2.]\n",
            "   [3. 3. 3.]\n",
            "   [4. 4. 4.]\n",
            "   [5. 5. 5.]]\n",
            "\n",
            "  [[1. 1. 1.]\n",
            "   [2. 2. 2.]\n",
            "   [3. 3. 3.]\n",
            "   [4. 4. 4.]\n",
            "   [5. 5. 5.]]\n",
            "\n",
            "  [[1. 1. 1.]\n",
            "   [2. 2. 2.]\n",
            "   [3. 3. 3.]\n",
            "   [4. 4. 4.]\n",
            "   [5. 5. 5.]]\n",
            "\n",
            "  [[1. 1. 1.]\n",
            "   [2. 2. 2.]\n",
            "   [3. 3. 3.]\n",
            "   [4. 4. 4.]\n",
            "   [5. 5. 5.]]]\n",
            "\n",
            "\n",
            " [[[1. 1. 1.]\n",
            "   [2. 2. 2.]\n",
            "   [3. 3. 3.]\n",
            "   [4. 4. 4.]\n",
            "   [5. 5. 5.]]\n",
            "\n",
            "  [[1. 1. 1.]\n",
            "   [2. 2. 2.]\n",
            "   [3. 3. 3.]\n",
            "   [4. 4. 4.]\n",
            "   [5. 5. 5.]]\n",
            "\n",
            "  [[1. 1. 1.]\n",
            "   [2. 2. 2.]\n",
            "   [3. 3. 3.]\n",
            "   [4. 4. 4.]\n",
            "   [5. 5. 5.]]\n",
            "\n",
            "  [[1. 1. 1.]\n",
            "   [2. 2. 2.]\n",
            "   [3. 3. 3.]\n",
            "   [4. 4. 4.]\n",
            "   [5. 5. 5.]]]], shape=(2, 4, 5, 3), dtype=float32)\n"
          ]
        }
      ],
      "source": [
        "X = tf.ones((2, 4, 5, 3))\n",
        "y = tf.constant([1, 2, 3, 4, 5])\n",
        "\n",
        "# Modifica la forma de 'y' para que sea compatible con 'X'\n",
        "y_reshaped = tf.reshape(y, [1, 1, 5, 1])\n",
        "\n",
        "# Expande 'y_reshaped' para que coincida con las dimensiones de 'X'\n",
        "y_expanded = tf.broadcast_to(y_reshaped, [2, 4, 5, 3])\n",
        "y_expanded = tf.cast(y_expanded, tf.float32)\n",
        "\n",
        "# Multiplica 'X' e 'y_expanded' elemento a elemento\n",
        "result = X * y_expanded\n",
        "print(result)\n"
      ]
    },
    {
      "cell_type": "markdown",
      "metadata": {
        "id": "wyL_f2TRGzSN"
      },
      "source": [
        "### Ejercicio 3\n",
        "Sobre Tensores, implemente las operaciones Suma, Producto Tensorial y Contraccion Tensorial. Para ello agregue las operaciones tensoriales que sean pertinentes.\n",
        "\n",
        "#### Fórmulas\n",
        "\n",
        "La suma de tensores de igual *shape* se define como:\n",
        "\n",
        "$A_{ij} + B_{ij} = C_{ij}$\n",
        "\n",
        "El producto tensorial entre $A$ de *shape* $(m, n)$ por una matriz de *shape* $(n,q)$ se define como:\n",
        "\n",
        "$C_{ij} = ∑_k A_{ik}B_{kj}$\n",
        "\n",
        "La contracción tensorial para el tensor de *shape* $(m=2,n=2,p=2)$ puede ser:\n",
        "\n",
        "$C_i = \\sum_{j=k}T_{ijk}$\n",
        "\n",
        "Para [ [ [ 1 , 2 ] , [ 3 , 4 ] ] , [ [ 5 , 6 ] , [ 7 , 8 ] ] ], tenemos entonces que:\n",
        "\n",
        "- $C_{i=1} = \\sum_{j,k}T_{1jk}= T_{1,1,1}+T_{1,1,2}+T_{1,2,1}+T_{1,2,2}=1+2+3+4$\n",
        "- $C_{i=2} = \\sum_{j,k}T_{2jk}= T_{2,1,1}+T_{2,1,2}+T_{2,2,1}+T_{2,2,2}=5+6+7+8$"
      ]
    },
    {
      "cell_type": "code",
      "execution_count": 20,
      "metadata": {
        "colab": {
          "base_uri": "https://localhost:8080/"
        },
        "id": "urXdykPP3x-h",
        "outputId": "0221497b-a99d-4547-c6cb-4ea41159a197"
      },
      "outputs": [
        {
          "name": "stdout",
          "output_type": "stream",
          "text": [
            "[[ 6  8]\n",
            " [10 12]]\n",
            "[[19. 22.]\n",
            " [43. 50.]]\n",
            "[[[1 2]\n",
            "  [3 4]]\n",
            "\n",
            " [[5 6]\n",
            "  [7 8]]]\n",
            "[10 26]\n"
          ]
        }
      ],
      "source": [
        "# Suma de tensores\n",
        "def tensor_sum(t1, t2):\n",
        "  if t1.shape != t2.shape:\n",
        "    raise ValueError(\"Los tensores deben tener la misma forma para la suma.\")\n",
        "  result = numpy.zeros_like(t1)\n",
        "  for i in range(t1.shape[0]):\n",
        "    for j in range(t1.shape[1]):\n",
        "      result[i, j] = t1[i, j] + t2[i, j]\n",
        "  return result\n",
        "\n",
        "# Producto tensorial\n",
        "def tensor_product(t1, t2):\n",
        "  result = numpy.zeros((t1.shape[0], t2.shape[1]))\n",
        "  for i in range(t1.shape[0]):\n",
        "    for j in range(t2.shape[1]):\n",
        "      for k in range(t1.shape[1]):\n",
        "        result[i, j] += t1[i, k] * t2[k, j]\n",
        "  return result\n",
        "\n",
        "\n",
        "# Contracción tensorial\n",
        "def tensor_contraction(t, axis1, axis2):\n",
        "  if axis1 == axis2:\n",
        "    raise ValueError(\"Los ejes no pueden ser iguales.\")\n",
        "  result = numpy.sum(t, axis=(axis1, axis2))\n",
        "  return result\n",
        "\n",
        "# Ejemplo de suma\n",
        "t1 = numpy.array([[1, 2], [3, 4]])\n",
        "t2 = numpy.array([[5, 6], [7, 8]])\n",
        "print(tensor_sum(t1, t2))\n",
        "\n",
        "# Ejemplo de producto tensorial\n",
        "t1 = numpy.array([[1, 2], [3, 4]])\n",
        "t2 = numpy.array([[5, 6], [7, 8]])\n",
        "print(tensor_product(t1, t2))\n",
        "\n",
        "# Ejemplo de contracción tensorial\n",
        "t = numpy.array([[[1, 2], [3, 4]], [[5, 6], [7, 8]]])\n",
        "print(t)\n",
        "print(tensor_contraction(t, 1, 2))\n",
        "\n",
        "\n"
      ]
    },
    {
      "cell_type": "markdown",
      "metadata": {
        "id": "dSkCut4H32lE"
      },
      "source": [
        "### Ejercicio 4\n",
        "Descargar y estudiar el dataset de IMDB de Keras (num_words = 10000)\n",
        "Separar el dataset en conjuntos de train y test"
      ]
    },
    {
      "cell_type": "code",
      "execution_count": 21,
      "metadata": {
        "colab": {
          "base_uri": "https://localhost:8080/"
        },
        "id": "DIczLIn8Hoth",
        "outputId": "9a9f43dc-2b79-4e5e-e6b0-72898e56e2fd"
      },
      "outputs": [
        {
          "name": "stdout",
          "output_type": "stream",
          "text": [
            "Downloading data from https://storage.googleapis.com/tensorflow/tf-keras-datasets/imdb.npz\n",
            "\u001b[1m17464789/17464789\u001b[0m \u001b[32m━━━━━━━━━━━━━━━━━━━━\u001b[0m\u001b[37m\u001b[0m \u001b[1m2s\u001b[0m 0us/step\n"
          ]
        },
        {
          "data": {
            "text/plain": [
              "9999"
            ]
          },
          "execution_count": 21,
          "metadata": {},
          "output_type": "execute_result"
        }
      ],
      "source": [
        "from tensorflow.keras.datasets import imdb\n",
        "\n",
        "# Según https://www.kaggle.com/datasets/lakshmi25npathi/imdb-dataset-of-50k-movie-reviews\n",
        "# el dataset de IMDB tiene 50k reseñas de películas, y está compuesto por:\n",
        "# - Review: Hace referencia a la reseña de cada película\n",
        "# - Sentiment: Valor binario que indica si la reseña fue positiva o negativa\n",
        "\n",
        "(train_data, train_labels), (test_data, test_labels) = imdb.load_data(num_words=10000)\n",
        "max([max(sequence) for sequence in train_data])"
      ]
    },
    {
      "cell_type": "markdown",
      "metadata": {
        "id": "kX6albpW4mmk"
      },
      "source": [
        "## Ejercicio 5\n",
        "Dentro del conjunto de Test extraer el primer review positivo y el primer negativo. Hacer la codificacion back-to-text de cada uno de ellos"
      ]
    },
    {
      "cell_type": "code",
      "execution_count": 22,
      "metadata": {
        "colab": {
          "base_uri": "https://localhost:8080/"
        },
        "id": "Twq7OJui5Pia",
        "outputId": "7368de0a-5697-4e30-9bf6-1018a539a4c7"
      },
      "outputs": [
        {
          "name": "stdout",
          "output_type": "stream",
          "text": [
            "Downloading data from https://storage.googleapis.com/tensorflow/tf-keras-datasets/imdb_word_index.json\n",
            "\u001b[1m1641221/1641221\u001b[0m \u001b[32m━━━━━━━━━━━━━━━━━━━━\u001b[0m\u001b[37m\u001b[0m \u001b[1m1s\u001b[0m 1us/step\n",
            "Primer review positivo: ? this film requires a lot of patience because it focuses on mood and character development the plot is very simple and many of the scenes take place on the same set in frances ? the sandy dennis character apartment but the film builds to a disturbing climax br br the characters create an atmosphere ? with sexual tension and psychological ? it's very interesting that robert altman directed this considering the style and structure of his other films still the trademark altman audio style is evident here and there i think what really makes this film work is the brilliant performance by sandy dennis it's definitely one of her darker characters but she plays it so perfectly and convincingly that it's scary michael burns does a good job as the mute young man regular altman player michael murphy has a small part the ? moody set fits the content of the story very well in short this movie is a powerful study of loneliness sexual ? and desperation be patient ? up the atmosphere and pay attention to the wonderfully written script br br i praise robert altman this is one of his many films that deals with unconventional fascinating subject matter this film is disturbing but it's sincere and it's sure to ? a strong emotional response from the viewer if you want to see an unusual film some might even say bizarre this is worth the time br br unfortunately it's very difficult to find in video stores you may have to buy it off the internet\n",
            "Primer review negativo: ? please give this one a miss br br ? ? and the rest of the cast rendered terrible performances the show is flat flat flat br br i don't know how michael madison could have allowed this one on his plate he almost seemed to know this wasn't going to work out and his performance was quite ? so all you madison fans give this a miss\n"
          ]
        }
      ],
      "source": [
        "# Extraer el primer review positivo y el primer negativo\n",
        "positive_index = next((i for i, label in enumerate(test_labels) if label == 1), None)\n",
        "negative_index = next((i for i, label in enumerate(test_labels) if label == 0), None)\n",
        "\n",
        "positive_review = test_data[positive_index]\n",
        "negative_review = test_data[negative_index]\n",
        "\n",
        "# word_index es un diccionario que mapea palabras a índices enteros\n",
        "word_index = imdb.get_word_index()\n",
        "\n",
        "# Se revierte, mapeando índices enteros a palabras\n",
        "reverse_word_index = dict([(value, key) for (key, value) in word_index.items()])\n",
        "\n",
        "# Decodificación back-to-text para la review positiva\n",
        "decoded_positive_review = ' '.join([reverse_word_index.get(i - 3, '?') for i in positive_review])\n",
        "\n",
        "# Decodificación back-to-text para la review negativa\n",
        "decoded_negative_review = ' '.join([reverse_word_index.get(i - 3, '?') for i in negative_review])\n",
        "\n",
        "# Los índices están desplazados por 3 ya que 0, 1, y 2 índices reservados para “padding,”\n",
        "# “start of sequence,” y “unknown.”\n",
        "\n",
        "print(\"Primer review positivo:\", decoded_positive_review)\n",
        "print(\"Primer review negativo:\", decoded_negative_review)"
      ]
    },
    {
      "cell_type": "markdown",
      "metadata": {
        "id": "YKcgzaui5SsZ"
      },
      "source": [
        "## Ejercicio 6\n",
        "Sin hacer uso de las librerias de Keras, crear una red neuronal feed-forward fully_connected con la siguiente arquitectura: capa de entrada - 16 -16 - capa de salida.\n",
        "(Programar todas las funciones necesarias)\n"
      ]
    },
    {
      "cell_type": "code",
      "execution_count": 27,
      "metadata": {
        "id": "e8K_z43P7Ckt"
      },
      "outputs": [],
      "source": [
        "import numpy as np\n",
        "\n",
        "def sigmoid(x):\n",
        "  return 1 / (1 + np.exp(-x))\n",
        "\n",
        "def relu(x):\n",
        "  return np.maximum(0, x)\n",
        "\n",
        "# Inicializar los pesos de forma aleatoria\n",
        "input_size = 10000  # Tamaño de entrada (vocabulario)\n",
        "hidden_size1 = 16\n",
        "hidden_size2 = 16\n",
        "output_size = 1\n",
        "\n",
        "weights_input_hidden1 = np.random.randn(input_size, hidden_size1)\n",
        "bias_hidden1 = np.zeros((1, hidden_size1))\n",
        "\n",
        "weights_hidden1_hidden2 = np.random.randn(hidden_size1, hidden_size2)\n",
        "bias_hidden2 = np.zeros((1, hidden_size2))\n",
        "\n",
        "weights_hidden2_output = np.random.randn(hidden_size2, output_size)\n",
        "bias_output = np.zeros((1, output_size))\n",
        "\n",
        "# Forward pass\n",
        "def forward_pass(X):\n",
        "  hidden_layer1_input = np.dot(X, weights_input_hidden1) + bias_hidden1\n",
        "  hidden_layer1_output = sigmoid(hidden_layer1_input)\n",
        "\n",
        "  hidden_layer2_input = np.dot(hidden_layer1_output, weights_hidden1_hidden2) + bias_hidden2\n",
        "  hidden_layer2_output = sigmoid(hidden_layer2_input)\n",
        "\n",
        "  output_layer_input = np.dot(hidden_layer2_output, weights_hidden2_output) + bias_output\n",
        "  output = sigmoid(output_layer_input)\n",
        "\n",
        "  return output, hidden_layer1_output, hidden_layer2_output\n",
        "\n",
        "# Ejemplo de uso\n",
        "# Supongamos que 'input_data' es un vector de entrada de tamaño (1, 10000)\n",
        "# output, _, _ = forward_pass(input_data)\n"
      ]
    },
    {
      "cell_type": "markdown",
      "metadata": {
        "id": "RP4QnotU7EFK"
      },
      "source": [
        "## Ejercicio 7\n",
        "Tomar un lote random de 100 reviews en el conjunto de train y hacer forward por su red neuronal estimando el error para ese lote. Definir la funcion de error pertinente.\n",
        "\n",
        "### Resolución\n",
        "\n",
        "No es posible alimentar listas de enteros a una red neuronal. Tienen todas diferentes longitudes, pero una red neuronal espera procesar lotes contiguos de datos. Por eso, se debe convertir las listas en tensores.\n",
        "\n",
        "Para ello, se va a utilizar *Multi-hot*, que codifica las listas para convertirlas en vectores de ceros y unos. encode your lists to turn them into vectors of 0s and 1s.\n",
        "\n",
        "Esto significa, por ejemplo, convertir a la secuencia [8,5] en un vector de dimension 10000 que tendrían todos ceros, a excepción de los índices 8 y 5, que contendrían unos. Así, se podría usar una capa densa, capaz de manejar datos de un vector de tipo *float*."
      ]
    },
    {
      "cell_type": "code",
      "execution_count": 29,
      "metadata": {
        "colab": {
          "base_uri": "https://localhost:8080/"
        },
        "id": "xMgbNdbk7uuj",
        "outputId": "6b5281d0-77e2-47cd-aaac-b2f411638dfc"
      },
      "outputs": [
        {
          "name": "stdout",
          "output_type": "stream",
          "text": [
            "Error en el lote: 0.8218571669937296\n"
          ]
        }
      ],
      "source": [
        "import numpy as np\n",
        "\n",
        "# Seleccionar un lote aleatorio de 100 reviews\n",
        "batch_size = 100\n",
        "indices = np.random.choice(train_data.shape[0], batch_size, replace=False)\n",
        "batch_data = train_data[indices]\n",
        "batch_labels = train_labels[indices]\n",
        "\n",
        "# Preprocesar los datos del lote (vectorizar)\n",
        "def vectorize_sequences(sequences, dimension=10000):\n",
        "\n",
        "  # Crea una matriz de todos ceros de shape (len(sequences), dimension)\n",
        "  results = np.zeros((len(sequences), dimension))\n",
        "\n",
        "  # Convierte los índices específicos de results[i] a unos\n",
        "  for i, sequence in enumerate(sequences):\n",
        "    results[i, sequence] = 1.\n",
        "  return results\n",
        "\n",
        "batch_data = vectorize_sequences(batch_data)\n",
        "batch_labels = np.asarray(batch_labels).astype('float32')\n",
        "\n",
        "# Forward pass para el lote\n",
        "predictions, _, _ = forward_pass(batch_data)\n",
        "\n",
        "# Función de error (binary crossentropy)\n",
        "def binary_crossentropy(y_true, y_pred):\n",
        "  epsilon = 1e-7  # Para evitar errores de logaritmo\n",
        "  y_pred = np.clip(y_pred, epsilon, 1 - epsilon)\n",
        "  return -np.mean(y_true * np.log(y_pred) + (1 - y_true) * np.log(1 - y_pred))\n",
        "\n",
        "# Calcular el error para el lote\n",
        "error = binary_crossentropy(batch_labels, predictions)\n",
        "print(\"Error en el lote:\", error)\n"
      ]
    },
    {
      "cell_type": "markdown",
      "metadata": {
        "id": "0pgNzr_z73cl"
      },
      "source": [
        "## Ejercicio 8\n",
        "Usando Keras defina la misma red neuronal anterior"
      ]
    },
    {
      "cell_type": "code",
      "execution_count": 32,
      "metadata": {
        "id": "i4640XN678D0"
      },
      "outputs": [],
      "source": [
        "model = keras.Sequential([\n",
        "  layers.Dense(16, activation='relu'),\n",
        "  layers.Dense(16, activation='relu'),\n",
        "  layers.Dense(1, activation='sigmoid')\n",
        "])\n",
        "\n",
        "model.compile(optimizer='rmsprop',\n",
        "              loss='binary_crossentropy',\n",
        "              metrics=['accuracy'])\n"
      ]
    },
    {
      "cell_type": "markdown",
      "metadata": {
        "id": "ww1WleSn8AJQ"
      },
      "source": [
        "## Ejercicio 9\n",
        "Entrene el modelo definido usando un batchs de 512 elementos y 20 epoch. Recuerden generar los conjuntos de validacion y train."
      ]
    },
    {
      "cell_type": "code",
      "execution_count": 35,
      "metadata": {
        "colab": {
          "base_uri": "https://localhost:8080/"
        },
        "id": "Gj1DUK377-Qg",
        "outputId": "69acc7fe-a26f-4f53-dcba-6fe118a8ede6"
      },
      "outputs": [
        {
          "name": "stdout",
          "output_type": "stream",
          "text": [
            "Forma de partial_x_train: (512, 10000)\n",
            "Forma de partial_y_train: (512,)\n",
            "Epoch 1/20\n",
            "\u001b[1m1/1\u001b[0m \u001b[32m━━━━━━━━━━━━━━━━━━━━\u001b[0m\u001b[37m\u001b[0m \u001b[1m0s\u001b[0m 125ms/step - accuracy: 0.7793 - loss: 0.4907 - val_accuracy: 0.8340 - val_loss: 0.4383\n",
            "Epoch 2/20\n",
            "\u001b[1m1/1\u001b[0m \u001b[32m━━━━━━━━━━━━━━━━━━━━\u001b[0m\u001b[37m\u001b[0m \u001b[1m0s\u001b[0m 71ms/step - accuracy: 0.8340 - loss: 0.4383 - val_accuracy: 0.7793 - val_loss: 0.4306\n",
            "Epoch 3/20\n",
            "\u001b[1m1/1\u001b[0m \u001b[32m━━━━━━━━━━━━━━━━━━━━\u001b[0m\u001b[37m\u001b[0m \u001b[1m0s\u001b[0m 70ms/step - accuracy: 0.7793 - loss: 0.4306 - val_accuracy: 0.8906 - val_loss: 0.3550\n",
            "Epoch 4/20\n",
            "\u001b[1m1/1\u001b[0m \u001b[32m━━━━━━━━━━━━━━━━━━━━\u001b[0m\u001b[37m\u001b[0m \u001b[1m0s\u001b[0m 135ms/step - accuracy: 0.8906 - loss: 0.3550 - val_accuracy: 0.9453 - val_loss: 0.2935\n",
            "Epoch 5/20\n",
            "\u001b[1m1/1\u001b[0m \u001b[32m━━━━━━━━━━━━━━━━━━━━\u001b[0m\u001b[37m\u001b[0m \u001b[1m0s\u001b[0m 61ms/step - accuracy: 0.9453 - loss: 0.2935 - val_accuracy: 0.9785 - val_loss: 0.2593\n",
            "Epoch 6/20\n",
            "\u001b[1m1/1\u001b[0m \u001b[32m━━━━━━━━━━━━━━━━━━━━\u001b[0m\u001b[37m\u001b[0m \u001b[1m0s\u001b[0m 61ms/step - accuracy: 0.9785 - loss: 0.2593 - val_accuracy: 0.9844 - val_loss: 0.2372\n",
            "Epoch 7/20\n",
            "\u001b[1m1/1\u001b[0m \u001b[32m━━━━━━━━━━━━━━━━━━━━\u001b[0m\u001b[37m\u001b[0m \u001b[1m0s\u001b[0m 62ms/step - accuracy: 0.9844 - loss: 0.2372 - val_accuracy: 0.9902 - val_loss: 0.2191\n",
            "Epoch 8/20\n",
            "\u001b[1m1/1\u001b[0m \u001b[32m━━━━━━━━━━━━━━━━━━━━\u001b[0m\u001b[37m\u001b[0m \u001b[1m0s\u001b[0m 136ms/step - accuracy: 0.9902 - loss: 0.2191 - val_accuracy: 0.9961 - val_loss: 0.2033\n",
            "Epoch 9/20\n",
            "\u001b[1m1/1\u001b[0m \u001b[32m━━━━━━━━━━━━━━━━━━━━\u001b[0m\u001b[37m\u001b[0m \u001b[1m0s\u001b[0m 63ms/step - accuracy: 0.9961 - loss: 0.2033 - val_accuracy: 0.9980 - val_loss: 0.1892\n",
            "Epoch 10/20\n",
            "\u001b[1m1/1\u001b[0m \u001b[32m━━━━━━━━━━━━━━━━━━━━\u001b[0m\u001b[37m\u001b[0m \u001b[1m0s\u001b[0m 62ms/step - accuracy: 0.9980 - loss: 0.1892 - val_accuracy: 0.9980 - val_loss: 0.1764\n",
            "Epoch 11/20\n",
            "\u001b[1m1/1\u001b[0m \u001b[32m━━━━━━━━━━━━━━━━━━━━\u001b[0m\u001b[37m\u001b[0m \u001b[1m0s\u001b[0m 60ms/step - accuracy: 0.9980 - loss: 0.1764 - val_accuracy: 0.9980 - val_loss: 0.1648\n",
            "Epoch 12/20\n",
            "\u001b[1m1/1\u001b[0m \u001b[32m━━━━━━━━━━━━━━━━━━━━\u001b[0m\u001b[37m\u001b[0m \u001b[1m0s\u001b[0m 63ms/step - accuracy: 0.9980 - loss: 0.1648 - val_accuracy: 0.9980 - val_loss: 0.1542\n",
            "Epoch 13/20\n",
            "\u001b[1m1/1\u001b[0m \u001b[32m━━━━━━━━━━━━━━━━━━━━\u001b[0m\u001b[37m\u001b[0m \u001b[1m0s\u001b[0m 61ms/step - accuracy: 0.9980 - loss: 0.1542 - val_accuracy: 0.9980 - val_loss: 0.1443\n",
            "Epoch 14/20\n",
            "\u001b[1m1/1\u001b[0m \u001b[32m━━━━━━━━━━━━━━━━━━━━\u001b[0m\u001b[37m\u001b[0m \u001b[1m0s\u001b[0m 61ms/step - accuracy: 0.9980 - loss: 0.1443 - val_accuracy: 0.9980 - val_loss: 0.1353\n",
            "Epoch 15/20\n",
            "\u001b[1m1/1\u001b[0m \u001b[32m━━━━━━━━━━━━━━━━━━━━\u001b[0m\u001b[37m\u001b[0m \u001b[1m0s\u001b[0m 64ms/step - accuracy: 0.9980 - loss: 0.1353 - val_accuracy: 0.9980 - val_loss: 0.1270\n",
            "Epoch 16/20\n",
            "\u001b[1m1/1\u001b[0m \u001b[32m━━━━━━━━━━━━━━━━━━━━\u001b[0m\u001b[37m\u001b[0m \u001b[1m0s\u001b[0m 74ms/step - accuracy: 0.9980 - loss: 0.1270 - val_accuracy: 1.0000 - val_loss: 0.1193\n",
            "Epoch 17/20\n",
            "\u001b[1m1/1\u001b[0m \u001b[32m━━━━━━━━━━━━━━━━━━━━\u001b[0m\u001b[37m\u001b[0m \u001b[1m0s\u001b[0m 80ms/step - accuracy: 1.0000 - loss: 0.1193 - val_accuracy: 1.0000 - val_loss: 0.1121\n",
            "Epoch 18/20\n",
            "\u001b[1m1/1\u001b[0m \u001b[32m━━━━━━━━━━━━━━━━━━━━\u001b[0m\u001b[37m\u001b[0m \u001b[1m0s\u001b[0m 61ms/step - accuracy: 1.0000 - loss: 0.1121 - val_accuracy: 1.0000 - val_loss: 0.1054\n",
            "Epoch 19/20\n",
            "\u001b[1m1/1\u001b[0m \u001b[32m━━━━━━━━━━━━━━━━━━━━\u001b[0m\u001b[37m\u001b[0m \u001b[1m0s\u001b[0m 63ms/step - accuracy: 1.0000 - loss: 0.1054 - val_accuracy: 1.0000 - val_loss: 0.0992\n",
            "Epoch 20/20\n",
            "\u001b[1m1/1\u001b[0m \u001b[32m━━━━━━━━━━━━━━━━━━━━\u001b[0m\u001b[37m\u001b[0m \u001b[1m0s\u001b[0m 134ms/step - accuracy: 1.0000 - loss: 0.0992 - val_accuracy: 1.0000 - val_loss: 0.0935\n"
          ]
        }
      ],
      "source": [
        "batch_size = 512\n",
        "indices = np.random.choice(train_data.shape[0], batch_size, replace=False)\n",
        "batch_data = train_data[indices]\n",
        "batch_labels = train_labels[indices]\n",
        "\n",
        "# Dividir los datos en conjuntos de entrenamiento y validación\n",
        "val_split = 10000\n",
        "x_val = batch_data[:val_split]\n",
        "partial_x_train = batch_data[val_split:]\n",
        "\n",
        "y_val = batch_labels[:val_split]\n",
        "partial_y_train = batch_labels[val_split:]\n",
        "\n",
        "x_val = vectorize_sequences(batch_data)\n",
        "partial_x_train = vectorize_sequences(batch_data)\n",
        "\n",
        "y_val = np.asarray(batch_labels).astype('float32')\n",
        "partial_y_train = np.asarray(batch_labels).astype('float32')\n",
        "\n",
        "# Verificar las formas de los arrays\n",
        "print(\"Forma de partial_x_train:\", partial_x_train.shape)\n",
        "print(\"Forma de partial_y_train:\", partial_y_train.shape)\n",
        "\n",
        "\n",
        "# Entrenar el modelo\n",
        "history = model.fit(partial_x_train,\n",
        "                    partial_y_train,\n",
        "                    epochs=20,\n",
        "                    batch_size=512,\n",
        "                    validation_data=(x_val, y_val))"
      ]
    },
    {
      "cell_type": "markdown",
      "metadata": {
        "id": "wxZEiARD9dao"
      },
      "source": [
        "## Ejercicio 10\n",
        "Plotear las curvas de **Training vs Validation Loss** con la loss por cada epochs\n",
        "Plotear las curvas de **Training vs Validation Accuracy** con el accuracy por cada epochs\n",
        "\n",
        "Haga un resumen con las conclusiones observadas en ambas graficas"
      ]
    },
    {
      "cell_type": "code",
      "execution_count": 36,
      "metadata": {
        "colab": {
          "base_uri": "https://localhost:8080/",
          "height": 927
        },
        "id": "9miq1vlI-K0o",
        "outputId": "b89cf635-df4d-4c1a-950f-a6a2b328281a"
      },
      "outputs": [
        {
          "data": {
            "image/png": "[encoded data removed]",
            "text/plain": [
              "<Figure size 640x480 with 1 Axes>"
            ]
          },
          "metadata": {},
          "output_type": "display_data"
        },
        {
          "data": {
            "image/png": "[encoded data removed]",
            "text/plain": [
              "<Figure size 640x480 with 1 Axes>"
            ]
          },
          "metadata": {},
          "output_type": "display_data"
        }
      ],
      "source": [
        "import matplotlib.pyplot as plt\n",
        "history_dict = history.history\n",
        "loss_values = history_dict[\"loss\"]\n",
        "val_loss_values = history_dict[\"val_loss\"]\n",
        "epochs = range(1, len(loss_values) + 1)\n",
        "plt.plot(epochs, loss_values, \"bo\", label=\"Training loss\")\n",
        "plt.plot(epochs, val_loss_values, \"b\", label=\"Validation loss\")\n",
        "plt.title(\"Training and validation loss\")\n",
        "plt.xlabel(\"Epochs\")\n",
        "plt.ylabel(\"Loss\")\n",
        "plt.legend()\n",
        "plt.show()\n",
        "\n",
        "acc = history_dict[\"accuracy\"]\n",
        "val_acc = history_dict[\"val_accuracy\"]\n",
        "plt.plot(epochs, acc, \"bo\", label=\"Training acc\")\n",
        "plt.plot(epochs, val_acc, \"b\", label=\"Validation acc\")\n",
        "plt.title(\"Training and validation accuracy\")\n",
        "plt.xlabel(\"Epochs\")\n",
        "plt.ylabel(\"Accuracy\")\n",
        "plt.legend()\n",
        "plt.show()\n"
      ]
    }
  ],
  "metadata": {
    "accelerator": "GPU",
    "colab": {
      "gpuType": "T4",
      "provenance": []
    },
    "kernelspec": {
      "display_name": "Python 3",
      "name": "python3"
    },
    "language_info": {
      "codemirror_mode": {
        "name": "ipython",
        "version": 3
      },
      "file_extension": ".py",
      "mimetype": "text/x-python",
      "name": "python",
      "nbconvert_exporter": "python",
      "pygments_lexer": "ipython3",
      "version": "3.10.12"
    }
  },
  "nbformat": 4,
  "nbformat_minor": 0
}
